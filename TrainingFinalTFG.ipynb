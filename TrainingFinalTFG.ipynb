{
 "cells": [
  {
   "cell_type": "code",
   "execution_count": 3,
   "id": "88e47749",
   "metadata": {},
   "outputs": [
    {
     "name": "stdout",
     "output_type": "stream",
     "text": [
      "(60000, 28, 28) (60000,)\n",
      "(10000, 28, 28) (10000,)\n",
      "0\n"
     ]
    },
    {
     "data": {
      "image/png": "[encoded data removed]",
      "text/plain": [
       "<Figure size 640x480 with 1 Axes>"
      ]
     },
     "metadata": {},
     "output_type": "display_data"
    },
    {
     "name": "stdout",
     "output_type": "stream",
     "text": [
      "(60000, 32, 32)\n",
      "(10000, 32, 32)\n",
      "(60000, 32, 32, 1)\n",
      "(10000, 32, 32, 1)\n",
      "Model: \"sequential_2\"\n",
      "_________________________________________________________________\n",
      " Layer (type)                Output Shape              Param #   \n",
      "=================================================================\n",
      " conv2d (Conv2D)             (None, 30, 30, 6)         60        \n",
      "                                                                 \n",
      " average_pooling2d (AverageP  (None, 15, 15, 6)        0         \n",
      " ooling2D)                                                       \n",
      "                                                                 \n",
      " conv2d_1 (Conv2D)           (None, 13, 13, 16)        880       \n",
      "                                                                 \n",
      " average_pooling2d_1 (Averag  (None, 7, 7, 16)         0         \n",
      " ePooling2D)                                                     \n",
      "                                                                 \n",
      " flatten_2 (Flatten)         (None, 784)               0         \n",
      "                                                                 \n",
      " dense_10 (Dense)            (None, 120)               94200     \n",
      "                                                                 \n",
      " dense_11 (Dense)            (None, 84)                10164     \n",
      "                                                                 \n",
      " dense_12 (Dense)            (None, 10)                850       \n",
      "                                                                 \n",
      "=================================================================\n",
      "Total params: 106,154\n",
      "Trainable params: 106,154\n",
      "Non-trainable params: 0\n",
      "_________________________________________________________________\n",
      "Epoch 1/10\n",
      "938/938 [==============================] - 42s 44ms/step - loss: 0.2960 - accuracy: 0.9107\n",
      "Epoch 2/10\n",
      "938/938 [==============================] - 41s 44ms/step - loss: 0.0903 - accuracy: 0.9725\n",
      "Epoch 3/10\n",
      "938/938 [==============================] - 45s 48ms/step - loss: 0.0618 - accuracy: 0.9807\n",
      "Epoch 4/10\n",
      "938/938 [==============================] - 43s 46ms/step - loss: 0.0487 - accuracy: 0.9850\n",
      "Epoch 5/10\n",
      "938/938 [==============================] - 41s 44ms/step - loss: 0.0387 - accuracy: 0.9879\n",
      "Epoch 6/10\n",
      "938/938 [==============================] - 40s 43ms/step - loss: 0.0320 - accuracy: 0.9896\n",
      "Epoch 7/10\n",
      "938/938 [==============================] - 36s 38ms/step - loss: 0.0251 - accuracy: 0.9926\n",
      "Epoch 8/10\n",
      "938/938 [==============================] - 40s 43ms/step - loss: 0.0234 - accuracy: 0.9922\n",
      "Epoch 9/10\n",
      "938/938 [==============================] - 42s 45ms/step - loss: 0.0193 - accuracy: 0.9937\n",
      "Epoch 10/10\n",
      "938/938 [==============================] - 39s 42ms/step - loss: 0.0162 - accuracy: 0.9948\n",
      "time cost =  0:06:49.812782\n"
     ]
    },
    {
     "name": "stderr",
     "output_type": "stream",
     "text": [
      "WARNING:absl:Found untraced functions such as _jit_compiled_convolution_op, _jit_compiled_convolution_op while saving (showing 2 of 2). These functions will not be directly callable after loading.\n"
     ]
    },
    {
     "name": "stdout",
     "output_type": "stream",
     "text": [
      "INFO:tensorflow:Assets written to: complexMNIST\\assets\n"
     ]
    },
    {
     "name": "stderr",
     "output_type": "stream",
     "text": [
      "INFO:tensorflow:Assets written to: complexMNIST\\assets\n",
      "WARNING:absl:Found untraced functions such as _jit_compiled_convolution_op, _jit_compiled_convolution_op while saving (showing 2 of 2). These functions will not be directly callable after loading.\n"
     ]
    },
    {
     "name": "stdout",
     "output_type": "stream",
     "text": [
      "INFO:tensorflow:Assets written to: C:\\Users\\Sam\\AppData\\Local\\Temp\\tmp_79rhhp6\\assets\n"
     ]
    },
    {
     "name": "stderr",
     "output_type": "stream",
     "text": [
      "INFO:tensorflow:Assets written to: C:\\Users\\Sam\\AppData\\Local\\Temp\\tmp_79rhhp6\\assets\n"
     ]
    },
    {
     "data": {
      "text/plain": [
       "428524"
      ]
     },
     "execution_count": 3,
     "metadata": {},
     "output_type": "execute_result"
    }
   ],
   "source": [
    "import tensorflow as tf\n",
    "import matplotlib.pyplot as plt\n",
    "import numpy as np\n",
    "import datetime\n",
    "\n",
    "'''Program to compile and save a complex model of MNIST digit'''\n",
    "mnist = tf.keras.datasets.mnist\n",
    "(x_train,y_train),(x_test,y_test) = mnist.load_data()\n",
    "\n",
    "x_train = np.pad(x_train,((0,0),(2,2),(2,2)),'constant',constant_values=0)\n",
    "x_test = np.pad(x_test,((0,0),(2,2),(2,2)),'constant',constant_values=0)\n",
    "\n",
    "x_train = x_train.astype('float32')\n",
    "\n",
    "x_train = x_train/255\n",
    "x_test = x_test/255\n",
    "\n",
    "x_train = x_train.reshape(x_train.shape[0],32,32,1)\n",
    "x_test = x_test.reshape(x_test.shape[0],32,32,1)\n",
    "\n",
    "model =  tf.keras.models.Sequential([\n",
    "    tf.keras.layers.Conv2D(filters = 6, kernel_size = (3,3), padding = 'valid', activation = tf.nn.relu, input_shape = (32,32,1)),\n",
    "    tf.keras.layers.AveragePooling2D(pool_size = (2,2), strides = (2,2), padding = 'same'),\n",
    "    tf.keras.layers.Conv2D(filters = 16, kernel_size = (3,3), padding = 'valid', activation = tf.nn.relu),\n",
    "    tf.keras.layers.AveragePooling2D(pool_size = (2,2), strides = (2,2), padding = 'same'),\n",
    "    tf.keras.layers.Flatten(),\n",
    "    tf.keras.layers.Dense(units = 120, activation = tf.nn.relu),\n",
    "    tf.keras.layers.Dense(units = 84, activation = tf.nn.relu),\n",
    "    tf.keras.layers.Dense(units = 10, activation = tf.nn.softmax)\n",
    "])\n",
    "\n",
    "model.summary()\n",
    "\n",
    "model.compile(optimizer = tf.keras.optimizers.Adam(),\n",
    "              loss = tf.keras.losses.sparse_categorical_crossentropy,\n",
    "              metrics = ['accuracy'])\n",
    "\n",
    "start_time = datetime.datetime.now()\n",
    "\n",
    "model.fit(x = x_train,\n",
    "          y = y_train,\n",
    "          batch_size = 64,\n",
    "          epochs = 10)\n",
    "\n",
    "end_time = datetime.datetime.now()\n",
    "time_cost = end_time - start_time\n",
    "print(\"time cost = \",time_cost)\n",
    "\n",
    "tf.keras.models.save_model(model,'complexMNIST')\n",
    "model.save('complexMNIST.h5')\n",
    "\n",
    "converter = tf.lite.TFLiteConverter.from_keras_model(model)\n",
    "converter.experimental_new_converter = True\n",
    "\n",
    "tflite_model = converter.convert()\n",
    "\n",
    "open('complexMNIST.tflite', 'wb').write(tflite_model)"
   ]
  },
  {
   "cell_type": "code",
   "execution_count": 1,
   "id": "8b8e531d",
   "metadata": {},
   "outputs": [
    {
     "name": "stdout",
     "output_type": "stream",
     "text": [
      "Model: \"sequential\"\n",
      "_________________________________________________________________\n",
      " Layer (type)                Output Shape              Param #   \n",
      "=================================================================\n",
      " flatten (Flatten)           (None, 1024)              0         \n",
      "                                                                 \n",
      " dense (Dense)               (None, 124)               127100    \n",
      "                                                                 \n",
      " dense_1 (Dense)             (None, 10)                1250      \n",
      "                                                                 \n",
      " dense_2 (Dense)             (None, 124)               1364      \n",
      "                                                                 \n",
      " dense_3 (Dense)             (None, 496)               62000     \n",
      "                                                                 \n",
      " dense_4 (Dense)             (None, 10)                4970      \n",
      "                                                                 \n",
      "=================================================================\n",
      "Total params: 196,684\n",
      "Trainable params: 196,684\n",
      "Non-trainable params: 0\n",
      "_________________________________________________________________\n",
      "Epoch 1/10\n",
      "938/938 [==============================] - 5s 4ms/step - loss: 0.3047 - accuracy: 0.9058\n",
      "Epoch 2/10\n",
      "938/938 [==============================] - 3s 3ms/step - loss: 0.1262 - accuracy: 0.9624\n",
      "Epoch 3/10\n",
      "938/938 [==============================] - 4s 5ms/step - loss: 0.0915 - accuracy: 0.9724\n",
      "Epoch 4/10\n",
      "938/938 [==============================] - 3s 3ms/step - loss: 0.0737 - accuracy: 0.9777\n",
      "Epoch 5/10\n",
      "938/938 [==============================] - 3s 3ms/step - loss: 0.0611 - accuracy: 0.9815\n",
      "Epoch 6/10\n",
      "938/938 [==============================] - 3s 3ms/step - loss: 0.0513 - accuracy: 0.9837\n",
      "Epoch 7/10\n",
      "938/938 [==============================] - 3s 3ms/step - loss: 0.0458 - accuracy: 0.9852\n",
      "Epoch 8/10\n",
      "938/938 [==============================] - 3s 3ms/step - loss: 0.0403 - accuracy: 0.9872\n",
      "Epoch 9/10\n",
      "938/938 [==============================] - 3s 3ms/step - loss: 0.0353 - accuracy: 0.9890\n",
      "Epoch 10/10\n",
      "938/938 [==============================] - 3s 3ms/step - loss: 0.0314 - accuracy: 0.9898\n",
      "time cost =  0:00:34.447538\n",
      "INFO:tensorflow:Assets written to: simpleMNIST\\assets\n",
      "INFO:tensorflow:Assets written to: C:\\Users\\Sam\\AppData\\Local\\Temp\\tmp1yxpt0wx\\assets\n"
     ]
    },
    {
     "data": {
      "text/plain": [
       "789948"
      ]
     },
     "execution_count": 1,
     "metadata": {},
     "output_type": "execute_result"
    }
   ],
   "source": [
    "import tensorflow as tf\n",
    "import matplotlib.pyplot as plt\n",
    "import numpy as np\n",
    "import datetime\n",
    "\n",
    "'''Program to compile and save a simple model of MNIST digit'''\n",
    "mnist = tf.keras.datasets.mnist\n",
    "(x_train,y_train),(x_test,y_test) = mnist.load_data()\n",
    "\n",
    "\n",
    "x_train = np.pad(x_train,((0,0),(2,2),(2,2)),'constant',constant_values=0)\n",
    "x_test = np.pad(x_test,((0,0),(2,2),(2,2)),'constant',constant_values=0)\n",
    "\n",
    "x_train = x_train.astype('float32')\n",
    "\n",
    "x_train = x_train/255\n",
    "x_test = x_test/255\n",
    "\n",
    "x_train = x_train.reshape(x_train.shape[0],32,32,1)\n",
    "x_test = x_test.reshape(x_test.shape[0],32,32,1)\n",
    "\n",
    "model =  tf.keras.models.Sequential([\n",
    "    tf.keras.layers.Flatten(input_shape=(32, 32, 1)),\n",
    "    tf.keras.layers.Dense(124, activation=tf.nn.relu),\n",
    "    tf.keras.layers.Dense(10, activation=tf.nn.relu),\n",
    "    tf.keras.layers.Dense(124, activation=tf.nn.relu),\n",
    "    tf.keras.layers.Dense(496, activation=tf.nn.relu),\n",
    "    tf.keras.layers.Dense(10, activation = tf.nn.softmax)\n",
    "])\n",
    "\n",
    "model.summary()\n",
    "\n",
    "model.compile(optimizer = tf.keras.optimizers.Adam(),\n",
    "              loss = tf.keras.losses.sparse_categorical_crossentropy,\n",
    "              metrics = ['accuracy'])\n",
    "\n",
    "start_time = datetime.datetime.now()\n",
    "\n",
    "model.fit(x = x_train,\n",
    "          y = y_train,\n",
    "          batch_size = 64,\n",
    "          epochs = 10)\n",
    "\n",
    "end_time = datetime.datetime.now()\n",
    "time_cost = end_time - start_time\n",
    "print(\"time cost = \",time_cost)\n",
    "\n",
    "tf.keras.models.save_model(model,'simpleMNIST')\n",
    "model.save('simpleMNIST.h5')\n",
    "\n",
    "converter = tf.lite.TFLiteConverter.from_keras_model(model)\n",
    "converter.experimental_new_converter = True\n",
    "\n",
    "tflite_model = converter.convert()\n",
    "\n",
    "open('simpleMNIST.tflite', 'wb').write(tflite_model)"
   ]
  },
  {
   "cell_type": "code",
   "execution_count": 4,
   "id": "add00642",
   "metadata": {},
   "outputs": [
    {
     "name": "stdout",
     "output_type": "stream",
     "text": [
      "(60000, 28, 28)\n",
      "(60000, 32, 32)\n"
     ]
    }
   ],
   "source": [
    "import tensorflow as tf\n",
    "import numpy as np\n",
    "from PIL import Image\n",
    "import matplotlib.pyplot as plt\n",
    "import scipy.misc\n",
    "import os\n",
    "\n",
    "'''Program to save the MNIST images'''\n",
    "mnist = tf.keras.datasets.mnist\n",
    "(x_train,y_train),(x_test,y_test) = mnist.load_data()\n",
    "print(x_train.shape)\n",
    "x_train = np.pad(x_train,((0,0),(2,2),(2,2)),'constant',constant_values=0)\n",
    "x_train = x_train/255\n",
    "print(x_train.shape)\n",
    "\n",
    "save_dir = './images/'\n",
    "if os.path.exists(save_dir) is False:\n",
    "    os.makedirs(save_dir)\n",
    "for i in range(1000):\n",
    "    image = x_train[i]\n",
    "    file = save_dir+'mnist_train_%d.jpg' % i\n",
    "    Image.fromarray((image*255).astype('uint8'), mode='L').convert('L').save(file)"
   ]
  },
  {
   "cell_type": "code",
   "execution_count": 2,
   "id": "18e610c2",
   "metadata": {},
   "outputs": [
    {
     "name": "stdout",
     "output_type": "stream",
     "text": [
      "313/313 [==============================] - 2s 3ms/step - loss: 0.0307 - accuracy: 0.9886\n",
      "Test score: 0.030729681253433228\n",
      "Test accuracy: 0.9886000156402588\n",
      "313/313 [==============================] - 1s 3ms/step - loss: 0.1080 - accuracy: 0.9736\n",
      "Test score: 0.10795608907938004\n",
      "Test accuracy: 0.9735999703407288\n"
     ]
    }
   ],
   "source": [
    "from tensorflow import keras\n",
    "from tensorflow.keras import layers\n",
    "\n",
    "'''Evaluating with the train images the models'''\n",
    "\n",
    "mnist = tf.keras.datasets.mnist\n",
    "(x_train,y_train),(x_test,y_test) = mnist.load_data()\n",
    "\n",
    "x_test = np.pad(x_test,((0,0),(2,2),(2,2)),'constant',constant_values=0)\n",
    "x_test = x_test/255\n",
    "x_test = x_test.reshape(x_test.shape[0],32,32,1)\n",
    "\n",
    "model = keras.models.load_model('complexMNIST.h5')\n",
    "\n",
    "score = model.evaluate(x_test, y_test)\n",
    "print('Test score:', score[0])\n",
    "print('Test accuracy:', score[1])\n",
    "\n",
    "model = keras.models.load_model('simpleMNIST.h5')\n",
    "score = model.evaluate(x_test, y_test)\n",
    "print('Test score:', score[0])\n",
    "print('Test accuracy:', score[1])"
   ]
  }
 ],
 "metadata": {
  "kernelspec": {
   "display_name": "Python 3 (ipykernel)",
   "language": "python",
   "name": "python3"
  },
  "language_info": {
   "codemirror_mode": {
    "name": "ipython",
    "version": 3
   },
   "file_extension": ".py",
   "mimetype": "text/x-python",
   "name": "python",
   "nbconvert_exporter": "python",
   "pygments_lexer": "ipython3",
   "version": "3.10.9"
  }
 },
 "nbformat": 4,
 "nbformat_minor": 5
}
